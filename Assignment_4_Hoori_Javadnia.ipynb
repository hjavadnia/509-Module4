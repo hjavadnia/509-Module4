{
 "cells": [
  {
   "cell_type": "code",
   "execution_count": 39,
   "id": "ec4402d3",
   "metadata": {},
   "outputs": [],
   "source": []
  },
  {
   "cell_type": "markdown",
   "id": "79d2b969",
   "metadata": {},
   "source": [
    "###  Hoori Javadnia , Assignment Module 4 "
   ]
  },
  {
   "cell_type": "markdown",
   "id": "4f835554",
   "metadata": {},
   "source": [
    "## Naive Bayes on Political Text\n",
    "In this notebook we use Naive Bayes to explore and classify political data. See the README.md for full details.\n",
    "\n"
   ]
  },
  {
   "cell_type": "code",
   "execution_count": null,
   "id": "5d8abea7",
   "metadata": {},
   "outputs": [],
   "source": [
    "from collections import Counter, defaultdict\n",
    "import nltk\n",
    "from nltk.corpus import stopwords\n",
    "import numpy as np\n",
    "import pandas as pd\n",
    "import random\n",
    "import re\n",
    "import sqlite3"
   ]
  },
  {
   "cell_type": "code",
   "execution_count": 40,
   "id": "89c5a6e9",
   "metadata": {},
   "outputs": [],
   "source": [
    "stop_words = stopwords.words(\"english\") # Stop words"
   ]
  },
  {
   "cell_type": "code",
   "execution_count": 41,
   "id": "ed432a35",
   "metadata": {},
   "outputs": [],
   "source": [
    "# Database read \n",
    "convention_2020_db = (\"/Users/javadniahoori/Downloads/509/4/assignment/2020_Conventions.db\")\n",
    "\n",
    "congressional_db = (\"/Users/javadniahoori/Downloads/509/4/assignment/congressional_data.db\")"
   ]
  },
  {
   "cell_type": "code",
   "execution_count": null,
   "id": "806abade",
   "metadata": {},
   "outputs": [],
   "source": []
  },
  {
   "cell_type": "code",
   "execution_count": 42,
   "id": "3be4feb5",
   "metadata": {},
   "outputs": [],
   "source": [
    "convention_db = sqlite3.connect(convention_2020_db)\n",
    "convention_cur = convention_db.cursor()"
   ]
  },
  {
   "cell_type": "code",
   "execution_count": 63,
   "id": "8e5837b9",
   "metadata": {},
   "outputs": [
    {
     "name": "stdout",
     "output_type": "stream",
     "text": [
      "List of tables\n",
      "\n",
      "[('conventions',)]\n"
     ]
    }
   ],
   "source": [
    "#see what in the table\n",
    "sql_query = \"\"\"SELECT name FROM sqlite_master  \n",
    "  WHERE type='table';\"\"\"\n",
    "convention_cur.execute(sql_query)\n",
    "print(\"List of tables\\n\")\n",
    "print(convention_cur.fetchall())\n"
   ]
  },
  {
   "cell_type": "markdown",
   "id": "982d9d99",
   "metadata": {},
   "source": [
    "## Part 1: Exploratory Naive Bayes\n",
    "We'll first build a NB model on the convention data itself, as a way to understand what words distinguish between the two parties. This is analogous to what we did in the \"Comparing Groups\" class work. First, pull in the text for each party and prepare it for use in Naive Bayes."
   ]
  },
  {
   "cell_type": "code",
   "execution_count": 60,
   "id": "018af52c",
   "metadata": {},
   "outputs": [],
   "source": [
    "# cleaan the data below\n",
    "def preprocess_text(text):\n",
    "    text = str(text)\n",
    "    # Lowercase all text\n",
    "    text = str.lower(text)\n",
    "\n",
    "\n",
    "    re_whitespaces = re.compile(r\"\\s+\") # Remove white spaces\n",
    "    text = re_whitespaces.sub(\" \", text)\n",
    "\n",
    "    \n",
    "    re_misc = re.compile(r\"[&#:()<>{}\\[\\]\\\\,\\.]\")# Remove noise\n",
    "    text = re_misc.sub(\" \", text)\n",
    "    # Remove extra additional noise\n",
    "    re_noise = re.compile(r\"\\s[\\W]\\s\")\n",
    "    text = re_noise.sub(\"\", text)\n",
    "    \n",
    "\n",
    "    text = text.strip().replace(\"  \", \" \")\n",
    "\n",
    " \n",
    "    tokens = text.split(\" \") # Split on white spaces\n",
    "    # Drop empty tokens\n",
    "    tokens = [x for x in tokens if x != \"\"]\n",
    "\n",
    "    \n",
    "    tokens = [x for x in tokens if not x in stop_words] # Remove stop word \n",
    "\n",
    "    # Join tokens into a single string\n",
    "    tokens = \" \".join(tokens)\n",
    "\n",
    "    return tokens\n"
   ]
  },
  {
   "cell_type": "code",
   "execution_count": 61,
   "id": "475175bd",
   "metadata": {},
   "outputs": [],
   "source": [
    "convention_data = []\n",
    "# Result is a list of tuples (raw_text, party)\n",
    "query_results = convention_cur.execute(\n",
    "    '''\n",
    "    SELECT text, party\n",
    "    FROM conventions\n",
    "    '''\n",
    ")\n",
    "for row in query_results:\n",
    "    raw_text = row[0]\n",
    "    party = row[1]\n",
    "\n",
    "    # Pre-process tokens\n",
    "    tokens = preprocess_text(raw_text)\n",
    "\n",
    "    # Create sublist of tokens and political party\n",
    "    tokens_and_party = [tokens, party]\n",
    "    convention_data.append(tokens_and_party)"
   ]
  },
  {
   "cell_type": "code",
   "execution_count": 45,
   "id": "57870a8a",
   "metadata": {},
   "outputs": [
    {
     "data": {
      "text/plain": [
       "[['foreign prince', 'Republican'],\n",
       " ['reproductive justice', 'Democratic'],\n",
       " ['mission fight future equal ideals founders hopes children sacrifices veterans brave men women uniform families',\n",
       "  'Democratic'],\n",
       " ['black americans standing native land probably represent oregon dual viruses covid-19 racism laid bare equal healthcare access deaths communities color',\n",
       "  'Democratic'],\n",
       " ['joe’s purpose always driven forward strength unstoppable faith unshakable it’s politicians political parties even it’s providence god faith us yes many classrooms quiet right playgrounds still listen closely hear sparks change air across country educators parents first responders americans walks life putting shoulders back fighting haven’t given need leadership worthy nation worthy honest leadership bring us back together recover pandemic prepare whatever else next dr',\n",
       "  'Democratic'],\n",
       " ['he’ll love heart', 'Democratic'],\n",
       " ['rhode island ocean state restaurant fishing industry decimated pandemic lucky governor gina raimondo whose program lets fishermen sell catches directly public state appetizer calamari available 50 states calamari comeback state rhode island casts 1 vote bernie sanders 34 votes next president joe biden',\n",
       "  'Democratic'],\n",
       " ['knows it’s like send child war', 'Democratic'],\n",
       " ['america', 'Democratic'],\n",
       " ['trillions dollars repatriated back united states sitting foreign lands far long america became envy world renewed strength came leverage president demanded allies pay fair share defense western world father rebuilt mighty american military adding new jets aircraft carriers increased wages incredible men women uniform expanded military defense budget $721 billion per year america longer weak eye enemy moment president trump ordered special forces kill deadliest terrorists planet day mighty moab dropped insurgent camps day america took stance never defeated enemy al-baghdadi soleimani dead issue issue economy wall military trade deals tax cuts supreme court justices va hospitals prescription drugs school choice right try moving embassy jerusalem peace middle east never-ending wars finally ended promises made promises first time kept',\n",
       "  'Republican']]"
      ]
     },
     "execution_count": 45,
     "metadata": {},
     "output_type": "execute_result"
    }
   ],
   "source": [
    "random.choices(convention_data, k = 10)"
   ]
  },
  {
   "cell_type": "markdown",
   "id": "9acf6e05",
   "metadata": {},
   "source": [
    "If that looks good, we now need to make our function to turn these into features. In my solution, I wanted to keep the number of features reasonable, so I only used words that occur at least `word_cutoff` times. Here's the code to test that if you want it. "
   ]
  },
  {
   "cell_type": "code",
   "execution_count": 46,
   "id": "6c9b2f1d",
   "metadata": {},
   "outputs": [
    {
     "name": "stdout",
     "output_type": "stream",
     "text": [
      "With a word cutoff of 5, we have 2400 as features in the model.\n"
     ]
    }
   ],
   "source": [
    "word_cutoff = 5\n",
    "\n",
    "# List of all tokens\n",
    "tokens = [w for t, p in convention_data for w in t.split()]\n",
    "\n",
    "word_dist = nltk.FreqDist(tokens)\n",
    "\n",
    "feature_words = set()\n",
    "\n",
    "for word, count in word_dist.items() :\n",
    "    if count > word_cutoff :\n",
    "        feature_words.add(word)\n",
    "        \n",
    "print(f\"With a word cutoff of {word_cutoff}, we have {len(feature_words)} as features in the model.\")"
   ]
  },
  {
   "cell_type": "code",
   "execution_count": 62,
   "id": "aea131f7",
   "metadata": {},
   "outputs": [],
   "source": [
    "def conv_features(text, fw):\n",
    "  \"\"\"\n",
    "  Given some text, this returns a dictionary holding the\n",
    "  feature words.\n",
    "       \n",
    "  Args:\n",
    "    * text: a piece of text in a continuous string. Assumes\n",
    "      text has been cleaned and case folded.\n",
    "    * fw: the *feature words* that we're considering. A word \n",
    "      in `text` must be in fw in order to be returned. This \n",
    "      prevents us from considering very rarely occurring words.\n",
    "        \n",
    "  Returns: \n",
    "    A dictionary with the words in `text` that appear in `fw`. \n",
    "    * Words are only counted once. \n",
    "    If `text` were \"quick quick brown fox\" \n",
    "      and `fw` = {'quick','fox','jumps'},\n",
    "    then this would return a dictionary of \n",
    "      {'quick' : True, 'fox' : True}\n",
    "        \n",
    "  \"\"\"\n",
    "  clean_text = text\n",
    "  words = clean_text.split(\" \")\n",
    "\n",
    "  unique_words = set(words)\n",
    "\n",
    "  \n",
    "  words_in_fw = [w for w in unique_words if w in fw]\n",
    "  \n",
    "  ret_dict = dict.fromkeys(words_in_fw, True)# Key = word, value = True\n",
    "    \n",
    "  return(ret_dict)"
   ]
  },
  {
   "cell_type": "code",
   "execution_count": 48,
   "id": "d126df36",
   "metadata": {},
   "outputs": [],
   "source": [
    "assert(len(feature_words)>0)\n",
    "assert(conv_features(\"donald is the president\", feature_words)==\n",
    "       {'donald':True,'president':True})\n",
    "assert(conv_features(\"people are american in america\", feature_words)==\n",
    "                     {'america':True,'american':True,\"people\":True})"
   ]
  },
  {
   "cell_type": "markdown",
   "id": "e1dc3f8e",
   "metadata": {},
   "source": [
    "Now we'll build our feature set. Out of curiosity I did a train/test split to see how accurate the classifier was, but we don't strictly need to since this analysis is exploratory."
   ]
  },
  {
   "cell_type": "code",
   "execution_count": 49,
   "id": "26ff17bd",
   "metadata": {},
   "outputs": [],
   "source": [
    "featuresets = [(\n",
    "    conv_features(text, feature_words), \n",
    "        party) for (text, party) in convention_data]"
   ]
  },
  {
   "cell_type": "code",
   "execution_count": 50,
   "id": "21a8bb98",
   "metadata": {},
   "outputs": [],
   "source": [
    "random.seed(20220507)\n",
    "random.shuffle(featuresets)\n",
    "\n",
    "test_size = 500"
   ]
  },
  {
   "cell_type": "code",
   "execution_count": 51,
   "id": "ac334e7a",
   "metadata": {},
   "outputs": [
    {
     "name": "stdout",
     "output_type": "stream",
     "text": [
      "0.502\n"
     ]
    }
   ],
   "source": [
    "test_set, train_set = featuresets[:test_size], featuresets[test_size:]\n",
    "classifier = nltk.NaiveBayesClassifier.train(train_set)\n",
    "print(nltk.classify.accuracy(classifier, test_set))"
   ]
  },
  {
   "cell_type": "code",
   "execution_count": 52,
   "id": "6b35c1f8",
   "metadata": {},
   "outputs": [
    {
     "name": "stdout",
     "output_type": "stream",
     "text": [
      "Most Informative Features\n",
      "                   china = True           Republ : Democr =     25.8 : 1.0\n",
      "                   votes = True           Democr : Republ =     23.8 : 1.0\n",
      "             enforcement = True           Republ : Democr =     21.5 : 1.0\n",
      "                 destroy = True           Republ : Democr =     19.2 : 1.0\n",
      "                freedoms = True           Republ : Democr =     18.2 : 1.0\n",
      "                 climate = True           Democr : Republ =     17.8 : 1.0\n",
      "                supports = True           Republ : Democr =     17.1 : 1.0\n",
      "                   crime = True           Republ : Democr =     16.1 : 1.0\n",
      "                   media = True           Republ : Democr =     14.9 : 1.0\n",
      "                 beliefs = True           Republ : Democr =     13.0 : 1.0\n",
      "               countries = True           Republ : Democr =     13.0 : 1.0\n",
      "                 defense = True           Republ : Democr =     13.0 : 1.0\n",
      "                    isis = True           Republ : Democr =     13.0 : 1.0\n",
      "                 liberal = True           Republ : Democr =     13.0 : 1.0\n",
      "                religion = True           Republ : Democr =     13.0 : 1.0\n",
      "                   trade = True           Republ : Democr =     12.7 : 1.0\n",
      "                    flag = True           Republ : Democr =     12.1 : 1.0\n",
      "                 abraham = True           Republ : Democr =     11.9 : 1.0\n",
      "                  defund = True           Republ : Democr =     11.9 : 1.0\n",
      "               greatness = True           Republ : Democr =     11.5 : 1.0\n",
      "                    drug = True           Republ : Democr =     10.9 : 1.0\n",
      "              department = True           Republ : Democr =     10.9 : 1.0\n",
      "               destroyed = True           Republ : Democr =     10.9 : 1.0\n",
      "                   enemy = True           Republ : Democr =     10.9 : 1.0\n",
      "               amendment = True           Republ : Democr =     10.3 : 1.0\n"
     ]
    }
   ],
   "source": [
    "classifier.show_most_informative_features(25)"
   ]
  },
  {
   "cell_type": "markdown",
   "id": "cbb7e024",
   "metadata": {},
   "source": [
    "Write a little prose here about what you see in the classifier. Anything odd or interesting?"
   ]
  },
  {
   "cell_type": "markdown",
   "id": "bfedf36d",
   "metadata": {},
   "source": []
  },
  {
   "cell_type": "markdown",
   "id": "715ed6a8",
   "metadata": {},
   "source": [
    "The accuracy is 50%. between top 25 features, only 2 indicate Democrats and the rest suggest \n",
    "The Republican party had a higher word presence compared to the Democratic party. This suggests that Republicans tend to use more unique words, contributing to their greater prominence in text."
   ]
  },
  {
   "cell_type": "markdown",
   "id": "bc7326f1",
   "metadata": {},
   "source": [
    "## Part 2: Classifying Congressional Tweets\n",
    "In this part we apply the classifer we just built to a set of tweets by people running for congress in 2018. These tweets are stored in the database congressional_data.db. That DB is funky, so I'll give you the query I used to pull out the tweets. Note that this DB has some big tables and is unindexed, so the query takes a minute or two to run on my machine."
   ]
  },
  {
   "cell_type": "code",
   "execution_count": 53,
   "id": "77acf735",
   "metadata": {},
   "outputs": [],
   "source": [
    "cong_db = sqlite3.connect(congressional_db)\n",
    "cong_cur = cong_db.cursor()"
   ]
  },
  {
   "cell_type": "code",
   "execution_count": 54,
   "id": "e8336849",
   "metadata": {},
   "outputs": [],
   "source": [
    "results = cong_cur.execute(\n",
    "        '''\n",
    "           SELECT DISTINCT \n",
    "                  cd.candidate, \n",
    "                  cd.party,\n",
    "                  tw.tweet_text\n",
    "           FROM candidate_data cd \n",
    "           INNER JOIN tweets tw ON cd.twitter_handle = tw.handle \n",
    "               AND cd.candidate == tw.candidate \n",
    "               AND cd.district == tw.district\n",
    "           WHERE cd.party in ('Republican','Democratic') \n",
    "               AND tw.tweet_text NOT LIKE '%RT%'\n",
    "        ''')\n",
    "\n",
    "results = list(results) # Just to store it, since the query is time consuming\n"
   ]
  },
  {
   "cell_type": "code",
   "execution_count": 55,
   "id": "c1ff4a5f",
   "metadata": {},
   "outputs": [],
   "source": [
    "tweet_data = []\n",
    "for row in results:\n",
    "    raw_text = row[2].decode(\"utf-8\")\n",
    "    party = row[1]\n",
    "\n",
    "    # Pre-process tokens\n",
    "    tokens = preprocess_text(raw_text)\n",
    "\n",
    "    # Create sublist of tokens and political party\n",
    "    tokens_and_party = [tokens, party]\n",
    "\n",
    "    # store the results in convention_data\n",
    "    tweet_data.append(tokens_and_party)"
   ]
  },
  {
   "cell_type": "markdown",
   "id": "ff858b3f",
   "metadata": {},
   "source": [
    "There are a lot of tweets here. Let's take a random sample and see how our classifer does. I'm guessing it won't be too great given the performance on the convention speeches..."
   ]
  },
  {
   "cell_type": "code",
   "execution_count": 56,
   "id": "b597739e",
   "metadata": {},
   "outputs": [],
   "source": [
    "random.seed(20201014)\n",
    "\n",
    "tweet_data_sample = random.choices(tweet_data, k = 10)"
   ]
  },
  {
   "cell_type": "code",
   "execution_count": 57,
   "id": "c6f6283f",
   "metadata": {},
   "outputs": [
    {
     "name": "stdout",
     "output_type": "stream",
     "text": [
      "Here's our (cleaned) tweet: earlier today spoke house floor abt protecting health care women praised @ppmarmonte work central coast https //t co/wqgtrzt7vv\n",
      "Actual party is Democratic and our classifer says Republican.\n",
      "\n",
      "Here's our (cleaned) tweet: go tribe! rallytogether https //t co/0nxutfl9l5\n",
      "Actual party is Democratic and our classifer says Democratic.\n",
      "\n",
      "Here's our (cleaned) tweet: apparently trump thinks easy students overwhelmed crushing burden debt pay student loans trumpbudget https //t co/ckyqo5t0qh\n",
      "Actual party is Democratic and our classifer says Republican.\n",
      "\n",
      "Here's our (cleaned) tweet: we’re grateful first responders rescue personnel firefighters police volunteers working tirelessly keep people safe provide much-needed help putting lives line https //t co/ezpv0vmiz3\n",
      "Actual party is Republican and our classifer says Republican.\n",
      "\n",
      "Here's our (cleaned) tweet: let’s make even greater !! kag 🇺🇸 https //t co/y9qozd5l2z\n",
      "Actual party is Republican and our classifer says Republican.\n",
      "\n",
      "Here's our (cleaned) tweet: 1hr @cavs tie series 2-2 i'm allin216 @repbarbaralee scared? roadtovictory\n",
      "Actual party is Democratic and our classifer says Democratic.\n",
      "\n",
      "Here's our (cleaned) tweet: congrats @belliottsd new gig sd city hall glad continue serve… https //t co/fkvmw3cqdi\n",
      "Actual party is Democratic and our classifer says Republican.\n",
      "\n",
      "Here's our (cleaned) tweet: really close $3500 raised toward match right whoot!! that’s $7000 non-math majors room help us get https //t co/tu34c472sd https //t co/qsdqkypsmc\n",
      "Actual party is Democratic and our classifer says Republican.\n",
      "\n",
      "Here's our (cleaned) tweet: today comment period @potus’s plan expand offshore drilling opened public 60 days march 9 share oppose proposed program directly trump administration comments made email mail https //t co/baaymejxqn\n",
      "Actual party is Democratic and our classifer says Republican.\n",
      "\n",
      "Here's our (cleaned) tweet: celebrated @icseastla’s 22 years eastside commitment amp; saluted community leaders last night’s awards dinner! https //t co/7v7gh8givb\n",
      "Actual party is Democratic and our classifer says Republican.\n",
      "\n"
     ]
    }
   ],
   "source": [
    "for tweet, party in tweet_data_sample:\n",
    "    # Convert tweet to list\n",
    "    tweet = \"\".join(tweet)\n",
    "    # Convert to input dictionary\n",
    "    tweet_dict = conv_features(tweet, feature_words)\n",
    "    # Predict party\n",
    "    estimated_party = classifier.classify(tweet_dict)\n",
    "\n",
    "    # Fill in the right-hand side above with code that estimates the actual party\n",
    "    print(f\"Here's our (cleaned) tweet: {tweet}\")\n",
    "    print(f\"Actual party is {party} and our classifer says {estimated_party}.\")\n",
    "    print(\"\")\n"
   ]
  },
  {
   "cell_type": "markdown",
   "id": "95efc006",
   "metadata": {},
   "source": [
    "\n",
    "Now that we've looked at it some, let's score a bunch and see how we're doing."
   ]
  },
  {
   "cell_type": "code",
   "execution_count": 58,
   "id": "cba43afa",
   "metadata": {},
   "outputs": [],
   "source": [
    "# dictionary of counts by actual party and estimated party. \n",
    "# first key is actual, second is estimated\n",
    "parties = ['Republican','Democratic']\n",
    "results = defaultdict(lambda: defaultdict(int))\n",
    "\n",
    "for p in parties :\n",
    "    for p1 in parties :\n",
    "        results[p][p1] = 0\n",
    "\n",
    "\n",
    "num_to_score = 10000\n",
    "random.shuffle(tweet_data)\n",
    "\n",
    "for idx, tp in enumerate(tweet_data) :\n",
    "    tweet, party = tp    \n",
    "    # Now do the same thing as above, but we store the results rather\n",
    "    # than printing them.\n",
    "    tweet = \"\".join(tweet)\n",
    "    # Convert to input dictionary\n",
    "    tweet_dict = conv_features(tweet, feature_words)\n",
    "    # Predicted party\n",
    "    estimated_party = classifier.classify(tweet_dict)\n",
    "        \n",
    "    results[party][estimated_party] += 1\n",
    "    \n",
    "    if idx > num_to_score: \n",
    "        break"
   ]
  },
  {
   "cell_type": "code",
   "execution_count": 59,
   "id": "45086cf6",
   "metadata": {},
   "outputs": [
    {
     "data": {
      "text/plain": [
       "defaultdict(<function __main__.<lambda>()>,\n",
       "            {'Republican': defaultdict(int,\n",
       "                         {'Republican': 3654, 'Democratic': 624}),\n",
       "             'Democratic': defaultdict(int,\n",
       "                         {'Republican': 4760, 'Democratic': 964})})"
      ]
     },
     "execution_count": 59,
     "metadata": {},
     "output_type": "execute_result"
    }
   ],
   "source": [
    "results"
   ]
  },
  {
   "cell_type": "markdown",
   "id": "35a7eb3a",
   "metadata": {},
   "source": [
    "### Reflections\n",
    "\n",
    "_Write a little about what you see in the results_ "
   ]
  },
  {
   "cell_type": "markdown",
   "id": "abc30b4e",
   "metadata": {},
   "source": [
    "Out of 10,002 predicted candidates, 4,618 were correct.Seems like we have a bias towards republican.\n",
    "."
   ]
  },
  {
   "cell_type": "markdown",
   "id": "a63c0f3f",
   "metadata": {},
   "source": []
  },
  {
   "cell_type": "code",
   "execution_count": null,
   "id": "8dcea3ca",
   "metadata": {},
   "outputs": [],
   "source": []
  },
  {
   "cell_type": "code",
   "execution_count": null,
   "id": "8fb9a4e3",
   "metadata": {},
   "outputs": [],
   "source": []
  }
 ],
 "metadata": {
  "kernelspec": {
   "display_name": "Python 3 (ipykernel)",
   "language": "python",
   "name": "python3"
  },
  "language_info": {
   "codemirror_mode": {
    "name": "ipython",
    "version": 3
   },
   "file_extension": ".py",
   "mimetype": "text/x-python",
   "name": "python",
   "nbconvert_exporter": "python",
   "pygments_lexer": "ipython3",
   "version": "3.9.7"
  }
 },
 "nbformat": 4,
 "nbformat_minor": 5
}
